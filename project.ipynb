{
 "cells": [
  {
   "cell_type": "markdown",
   "metadata": {},
   "source": [
    "<a id=\"problema\"></a>\n",
    "# <font color=green>Problem statement</font>\n",
    "\n",
    "For every aspiring entrepreneur, embarking on the journey of starting a new business presents a myriad of challenges. The most daunting of these challenges is the uncertainty surrounding access to vital information that supports informed decision-making and helps mitigate the risks associated with investing time and money.\n",
    "\n",
    "In light of this, providing entrepreneurs with tools that furnish organized, accurate, and reliable information would be immensely beneficial. Such tools would offer them a sense of security and heightened confidence in assessing the profitability of their business ideas.\n",
    "\n",
    "Henceforth, unquestionably, **data science** emerges as the optimal tool for crafting such support tools for entrepreneurs and their nascent businesses."
   ]
  },
  {
   "cell_type": "markdown",
   "metadata": {},
   "source": [
    "<a id=\"preguntas\"></a>\n",
    "# <font color=green>Asking Questions </font>\n",
    "\n",
    "In accordance with the problem posed above, the following questions arose from both the entrepreneur and the team:\n",
    "\n",
    "1. What is the best location in Guadalajara, Mexico to open my bicycle business?\n",
    "2. How many sales will I be able to obtain in the first months of starting my business?\n",
    "3. What are the products most in demand by potential customers?\n",
    "4. What prices will be the most competitive for bicycles?\n",
    "5. How often will a customer want to buy clothing or accessories for their bikes?\n",
    "6. How many customers will come to my business for a repair or upgrade on their bicycle?\n",
    "\n",
    "While we cannot guarantee that we will address all the questions raised, we assured the entrepreneur that we will conduct an analysis of the available data. Subsequently, we will evaluate which information can be presented."
   ]
  },
  {
   "cell_type": "markdown",
   "metadata": {},
   "source": [
    "# Data Collection\n",
    "The decision was made to use \"Bike Buyers 1000\" and \"Bike Sales\", given that they contain information relevant to the problem being discussed and both datasets complement each other, which were found on kaggle.\n",
    "\n",
    "\"Bike Buyers 1000\" \n",
    "link: \"https://www.kaggle.com/datasets/heeraldedhia/bike-buyers\"\n",
    "\n",
    "\"Bike Sales\"\n",
    "link: \"https://www.kaggle.com/datasets/liyingiris90/bike-sales\"\n",
    "\n",
    "## Process to obtain the dataset\n",
    "\n",
    "Since the files contained within the Bike Sales data set are in .xlsx format, the Pandas function used was <font color =red> *pd.read_excel* </font>.\n",
    "\n",
    "For Bike Buyers, since it is a csv format, our already known function is used  <font color =red> *pd.read_csv*</font>  "
   ]
  },
  {
   "cell_type": "code",
   "execution_count": null,
   "metadata": {},
   "outputs": [],
   "source": [
    "%pip install openpyxl"
   ]
  },
  {
   "cell_type": "code",
   "execution_count": null,
   "metadata": {},
   "outputs": [],
   "source": [
    "import pandas as pd\n",
    "import numpy as np\n",
    "import seaborn as sns\n",
    "from colorama import Fore\n",
    "from colorama import Style\n",
    "import matplotlib.pyplot as plt\n",
    "sns.set()\n",
    "import scipy.optimize as opt\n",
    "from sklearn import preprocessing\n",
    "from sklearn.model_selection import train_test_split\n",
    "from sklearn.linear_model import LogisticRegression\n",
    "from sklearn.metrics import confusion_matrix, classification_report\n",
    "from sklearn.cluster import KMeans"
   ]
  },
  {
   "cell_type": "markdown",
   "metadata": {},
   "source": [
    "The respective DataFrames of the data set are saved <font color=blue> \"bike sales\"</font> and <font color=blue> \"bike buyers\""
   ]
  },
  {
   "cell_type": "code",
   "execution_count": null,
   "metadata": {},
   "outputs": [],
   "source": [
    "buyers = pd.read_csv(\"datasets/bike_buyers.csv\")"
   ]
  },
  {
   "cell_type": "code",
   "execution_count": null,
   "metadata": {},
   "outputs": [],
   "source": [
    "bikes = pd.read_excel(\"datasets/bikes.xlsx\")\n",
    "bikestores = pd.read_excel(\"datasets/bikeshops.xlsx\")\n",
    "orders = pd.read_excel(\"datasets/orders.xlsx\")"
   ]
  },
  {
   "cell_type": "markdown",
   "metadata": {},
   "source": [
    "# Dataset Exploration\n",
    "We proceed to review each DataFrame using <font color=blue> .head() </font> and <font color=blue>.tail()  </font>, as well as <font color=blue> .dtypes, .columns, .shape, .loc[$n:m$] </font> (where $n,m ∈ 𝖭$ and $n<m.$) "
   ]
  },
  {
   "cell_type": "code",
   "execution_count": null,
   "metadata": {},
   "outputs": [],
   "source": [
    "buyers.dtypes # There are floats that should be integers.\n",
    "buyers.shape # There are 1000 entries and 13 columns.\n",
    "buyers.columns # ID, Marital S, Gender, Income, Children, Education, Occupation, Home Owner, Cars, Commute Distance, Region, Age, purchase bike\n",
    "buyers.head() # NaNs are observed\n",
    "buyers.tail() # NaNs are observed\n",
    "c=list(buyers.columns) # The name of the columns is saved in a list, which will be used later to change the names of our dataframe. \n",
    "buyers.loc[500:515] # NaNs are observed. "
   ]
  },
  {
   "cell_type": "code",
   "execution_count": null,
   "metadata": {},
   "outputs": [],
   "source": [
    "bikes.dtypes # The only data that appears to be incorrect is the price, which is of type int. \n",
    "bikes.shape # There are a total of 97 rows with 5 columns\n",
    "bikes.columns # bike.id, model, category1, category2, frame, price. Columns will be renamed.\n",
    "bikes.head() # NaNs are not observed.\n",
    "bikes.tail() # NaNs are not observed.\n",
    "bc=list(bikes.columns)\n",
    "bikes.loc[46:58] # NaNs are not observed randomly"
   ]
  },
  {
   "cell_type": "code",
   "execution_count": null,
   "metadata": {},
   "outputs": [],
   "source": [
    "bikestores.dtypes # All data has the correct type.\n",
    "bikestores.shape # There are a total of 30 rows with 6 columns\n",
    "bikestores.columns # bikeshop.id , bikeshop.name, bikeshop.city, bikeshop.state, latitude , longitude. Columns will be renamed.\n",
    "bikestores.head() # NaNs are not observed.\n",
    "bikestores.tail() # NaNs are not observed.\n",
    "bs=list(bikestores.columns)\n",
    "bikestores.loc[10:25] # NaNs are not observed randomly. "
   ]
  },
  {
   "cell_type": "code",
   "execution_count": null,
   "metadata": {},
   "outputs": [],
   "source": [
    "orders.dtypes # It is observed that order.id, order.line, customer.id y product.id They are of type float when they should be of type integer.\n",
    "orders.shape # There are a total of 15644 rows and 7 columns. \n",
    "orders.columns # 'Unnamed: 0', 'order.id', 'order.line', 'order.date', 'customer.id','product.id' y 'quantity'. Columns will be renamed.\n",
    "oc=list(orders.columns) \n",
    "orders.head() # No Nans are observed, on the other hand, it is observed that the column 'Unnamed: 0' is repeated. \n",
    "orders.tail() # NaNs are not observed. \n",
    "orders.loc[10468:10480] # NaNs are not observed."
   ]
  },
  {
   "cell_type": "markdown",
   "metadata": {},
   "source": [
    "Knowing the values of some columns of some dataSets"
   ]
  },
  {
   "cell_type": "code",
   "execution_count": null,
   "metadata": {},
   "outputs": [],
   "source": [
    "orders['product.id'].unique()"
   ]
  },
  {
   "cell_type": "code",
   "execution_count": null,
   "metadata": {},
   "outputs": [],
   "source": [
    "orders['customer.id'].unique()"
   ]
  },
  {
   "cell_type": "code",
   "execution_count": null,
   "metadata": {},
   "outputs": [],
   "source": [
    "bikes['bike.id'].unique()"
   ]
  },
  {
   "cell_type": "code",
   "execution_count": null,
   "metadata": {},
   "outputs": [],
   "source": [
    "bikestores['bikeshop.id'].unique()"
   ]
  },
  {
   "cell_type": "markdown",
   "metadata": {},
   "source": [
    "# Renombramos las columnas en los DataFrames."
   ]
  },
  {
   "cell_type": "markdown",
   "metadata": {},
   "source": [
    "Se crean diccionarios para cambiar el nombre de las columnas de nuestros data frames."
   ]
  },
  {
   "cell_type": "code",
   "execution_count": 17,
   "metadata": {},
   "outputs": [],
   "source": [
    "buy_names = {c[0]:'id_buyer',\n",
    "              c[1]:'civil_status',\n",
    "              c[2]:'gender',\n",
    "              c[3]:'salary',\n",
    "              c[4]:'children',\n",
    "              c[5]:'education',\n",
    "              c[6]:\"profession\",\n",
    "              c[7]:\"own_house\",\n",
    "              c[8]:'cars',\n",
    "              c[9]:'trip_distance',\n",
    "              c[10]:'region',\n",
    "              c[11]:'age',\n",
    "              c[12]:'purchased_bicycle'}\n",
    "\n",
    "bike_names = {bc[0]:'id_bicycle',\n",
    "              bc[1]:'model',\n",
    "              bc[2]:'category_1',\n",
    "              bc[3]:'category_2',\n",
    "              bc[4]:'alloy',\n",
    "              bc[5]:'price'}\n",
    "\n",
    "stores_names = {bs[0]:'id_store',\n",
    "                  bs[1]:'store_name',\n",
    "                  bs[2]:'city',\n",
    "                  bs[3]:'state',\n",
    "                  bs[4]:'latitude',\n",
    "                  bs[5]:'length'}\n",
    "\n",
    "orders_names = {oc[1]:'id_order',\n",
    "                  oc[2]:'order_line',\n",
    "                  oc[3]:'order_date',\n",
    "                  oc[4]:'id_store',\n",
    "                  oc[5]:'id_bicycle',\n",
    "                  oc[6]:'items_number'}"
   ]
  },
  {
   "cell_type": "markdown",
   "metadata": {},
   "source": [
    "We notice the fact, that the customer_id column is actually the store_id. Since both match the number of entries and the values associated with each one."
   ]
  },
  {
   "cell_type": "code",
   "execution_count": 18,
   "metadata": {},
   "outputs": [],
   "source": [
    "buyers = buyers.rename(columns=buy_names)\n",
    "orders = orders.rename(columns=orders_names)\n",
    "bikes = bikes.rename(columns=bike_names)\n",
    "stores =  bikestores.rename(columns=stores_names)"
   ]
  },
  {
   "cell_type": "code",
   "execution_count": 19,
   "metadata": {},
   "outputs": [],
   "source": [
    "buyers.name = 'buyers'\n",
    "orders.name = 'orders'\n",
    "bikes.name = 'bikes'\n",
    "stores.name = 'stores'"
   ]
  },
  {
   "cell_type": "markdown",
   "metadata": {},
   "source": [
    "# Removal of NaNs\n",
    "\n",
    "To have cleaner DataFrames, the NaNs are eliminated"
   ]
  },
  {
   "cell_type": "code",
   "execution_count": 20,
   "metadata": {},
   "outputs": [],
   "source": [
    "# The following functions are created to determine NaNs between the different DataFrames.\n",
    "def nans_numbers(dataframe):\n",
    "    print(dataframe.isna().sum())\n",
    "\n",
    "def nans_percentage(dataframe):\n",
    "    print(dataframe.name)\n",
    "    print(dataframe.isna().sum()/len(dataframe)*100)\n",
    "    print(\"\\n\")"
   ]
  },
  {
   "cell_type": "code",
   "execution_count": null,
   "metadata": {},
   "outputs": [],
   "source": [
    "nans_percentage(orders)\n",
    "nans_percentage(stores)\n",
    "nans_percentage(bikes)\n",
    "nans_percentage(buyers) # The only DataFrame with NaNs present is the Buyers one.. \n",
    "nans_numbers(buyers)"
   ]
  }
 ],
 "metadata": {
  "kernelspec": {
   "display_name": "Python 3",
   "language": "python",
   "name": "python3"
  },
  "language_info": {
   "codemirror_mode": {
    "name": "ipython",
    "version": 3
   },
   "file_extension": ".py",
   "mimetype": "text/x-python",
   "name": "python",
   "nbconvert_exporter": "python",
   "pygments_lexer": "ipython3",
   "version": "3.9.6"
  }
 },
 "nbformat": 4,
 "nbformat_minor": 2
}
